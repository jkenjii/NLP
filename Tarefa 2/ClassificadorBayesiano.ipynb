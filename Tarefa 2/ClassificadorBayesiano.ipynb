{
 "cells": [
  {
   "cell_type": "code",
   "execution_count": 3,
   "metadata": {},
   "outputs": [],
   "source": [
    "import collections\n",
    "import re\n",
    "import matplotlib.pyplot as plt\n",
    "import numpy as np\n",
    "import itertools\n",
    "import os"
   ]
  },
  {
   "cell_type": "code",
   "execution_count": 23,
   "metadata": {},
   "outputs": [
    {
     "name": "stdout",
     "output_type": "stream",
     "text": [
      "business  entertainment  politics  README.TXT  sport  tech\n"
     ]
    }
   ],
   "source": [
    "!ls bbc"
   ]
  },
  {
   "cell_type": "code",
   "execution_count": 44,
   "metadata": {},
   "outputs": [],
   "source": [
    "arquivos = [ x[0]+'/'+nome  for x in list(os.walk(\"bbc\")) for nome in x[2]]"
   ]
  },
  {
   "cell_type": "code",
   "execution_count": 45,
   "metadata": {},
   "outputs": [],
   "source": [
    "arquivosTech = [x for x in arquivos if  x.split('/')[1] in ['tech']  ]\n",
    "arquivosNTech = [x for x in arquivos if  x.split('/')[1] in ['business', 'entertainment' , 'politics', 'sport']  ]"
   ]
  },
  {
   "cell_type": "code",
   "execution_count": 53,
   "metadata": {},
   "outputs": [],
   "source": [
    "def readDoc(file):\n",
    "    with open(file,'r',encoding='latin-1') as f:\n",
    "        return f.read()"
   ]
  },
  {
   "cell_type": "code",
   "execution_count": 242,
   "metadata": {},
   "outputs": [],
   "source": [
    "#TODO: tirar números?\n",
    "def tokenize(text):\n",
    "    text=text.lower()\n",
    "    text=re.sub('\\n',' ',text)\n",
    "    text=re.sub('[,.+=]',' ',text)\n",
    "    text=re.sub('[0-9]','',text)\n",
    "    text=re.sub('\\s+',' ',text)\n",
    "    text=text.strip()\n",
    "    return text.split(' ')"
   ]
  },
  {
   "cell_type": "code",
   "execution_count": 243,
   "metadata": {},
   "outputs": [],
   "source": [
    "#retirar stop words?\n",
    "def Train(docsTrue, docsFalse):\n",
    "    total=len(docsTrue)+len(docsFalse)\n",
    "    logPrioriT = np.log(len(docsTrue)/total)\n",
    "    logPrioriF = np.log(len(docsFalse)/total)\n",
    "\n",
    "    counterTotal = collections.Counter([y for x in [*docsTrue, *docsFalse]  for y in tokenize(x)])\n",
    "    V = set([y for x in [*docsTrue, *docsFalse]  for y in tokenize(x)])\n",
    "    counterT = collections.Counter([y for x in docsTrue for y in tokenize(x)])\n",
    "    counterF = collections.Counter([y for x in docsFalse for y in tokenize(x)])\n",
    "\n",
    "    denT = sum([x[1] for x in counterT.items()])+len(V)\n",
    "    denF = sum([x[1] for x in counterF.items()])+len(V)\n",
    "\n",
    "    likelyhoodT = { v: np.log((counterT[v]+1)/denT) for v  in V }\n",
    "    likelyhoodF = { v: np.log((counterF[v]+1)/denF) for v  in V }\n",
    "    \n",
    "    return {'logPrioriT': logPrioriT, 'logPrioriF': logPrioriF, 'likelyT': likelyhoodT, 'likelyF': likelyhoodF, 'V': V}"
   ]
  },
  {
   "cell_type": "code",
   "execution_count": null,
   "metadata": {},
   "outputs": [],
   "source": []
  },
  {
   "cell_type": "code",
   "execution_count": 244,
   "metadata": {},
   "outputs": [],
   "source": [
    "modelo = Train(docsTrue, docsFalse)"
   ]
  },
  {
   "cell_type": "code",
   "execution_count": 245,
   "metadata": {},
   "outputs": [],
   "source": [
    "def Classify(modelo, doc):\n",
    "    logPrioriT = modelo['logPrioriT']\n",
    "    logPrioriF = modelo['logPrioriF']\n",
    "    likelyT = modelo['likelyT']\n",
    "    likelyF = modelo['likelyF']\n",
    "    V = modelo['V']\n",
    "    \n",
    "    classT = logPrioriT\n",
    "    \n",
    "    for w in tokenize(doc):\n",
    "        if w in V:\n",
    "            classT += likelyT[w]\n",
    "    \n",
    "    \n",
    "    classF = logPrioriF\n",
    "    for w in tokenize(doc):\n",
    "        if w in V:\n",
    "            classF += likelyF[w]\n",
    "    \n",
    "    return np.argmax([classF, classT])"
   ]
  },
  {
   "cell_type": "code",
   "execution_count": 246,
   "metadata": {},
   "outputs": [],
   "source": [
    "def CrossValidation(docsTrue, docsFalse, k=10):\n",
    "    docs=[ (x,1) for x in docsTrue ]\n",
    "    docs=docs+[ (x,0) for x in docsFalse ]\n",
    "    np.random.shuffle(docs)\n",
    "    \n",
    "    sz = round(len(docs)/k)\n",
    "    \n",
    "    grupos = [ docs[idx:idx+sz]  for idx in range(0,len(docs), sz)]\n",
    "    \n",
    "    if(len(grupos) > k):\n",
    "        grupos[-2] += grupos[-1]\n",
    "    \n",
    "    grupos=grupos[:k]\n",
    "    \n",
    "    for i in range(k):\n",
    "        yield ( [doc for z in list(set(range(k)) -{i} ) for doc in grupos[z] ],  grupos[i] )"
   ]
  },
  {
   "cell_type": "code",
   "execution_count": null,
   "metadata": {},
   "outputs": [],
   "source": []
  },
  {
   "cell_type": "code",
   "execution_count": 247,
   "metadata": {},
   "outputs": [
    {
     "data": {
      "text/plain": [
       "{0, 1, 2, 3, 4, 6, 7, 8, 9}"
      ]
     },
     "execution_count": 247,
     "metadata": {},
     "output_type": "execute_result"
    }
   ],
   "source": [
    "set(range(10))-{5}"
   ]
  },
  {
   "cell_type": "code",
   "execution_count": 248,
   "metadata": {},
   "outputs": [],
   "source": [
    "def Experimento(setup):\n",
    "    train = setup[0]\n",
    "    test = setup[1]\n",
    "    \n",
    "    docsTrueTrain=[x[0] for x in train if x[1]==1]\n",
    "    docsFalseTrain=[x[0] for x in train if x[1]==0]\n",
    "    \n",
    "    \n",
    "    modelo = Train(docsTrueTrain, docsFalseTrain)\n",
    "        \n",
    "    result = [ (Classify(modelo, x), y)  for x,y in test ]\n",
    "    return result\n",
    "    "
   ]
  },
  {
   "cell_type": "code",
   "execution_count": 249,
   "metadata": {},
   "outputs": [],
   "source": [
    "def Score(r):\n",
    "    tp, tn, fp, fn = 0,0,0,0\n",
    "    for x in r:\n",
    "        tp += x[0]==1 and x[1]==1\n",
    "        tn += x[0]==0 and x[1]==0\n",
    "        fp += x[0]==1 and x[1]==0\n",
    "        fn += x[0]==0 and x[1]==1\n",
    "    \n",
    "    prec =  tp/(tp+fp)\n",
    "    rev  =  tp/(tp+fn)\n",
    "    \n",
    "    return ( prec, rev, 2*prec*rev/(prec+rev)  )"
   ]
  },
  {
   "cell_type": "code",
   "execution_count": 251,
   "metadata": {},
   "outputs": [
    {
     "name": "stdout",
     "output_type": "stream",
     "text": [
      "(0.9629629629629629, 1.0, 0.9811320754716981)\n",
      "(1.0, 0.9444444444444444, 0.9714285714285714)\n",
      "(1.0, 1.0, 1.0)\n",
      "(1.0, 1.0, 1.0)\n",
      "(1.0, 1.0, 1.0)\n",
      "(0.9583333333333334, 1.0, 0.9787234042553191)\n",
      "(0.85, 1.0, 0.9189189189189189)\n",
      "(0.95, 1.0, 0.9743589743589743)\n",
      "(1.0, 0.9473684210526315, 0.972972972972973)\n",
      "(0.9583333333333334, 1.0, 0.9787234042553191)\n",
      "(0.9583333333333334, 1.0, 0.9787234042553191)\n",
      "(1.0, 1.0, 1.0)\n",
      "(1.0, 0.9411764705882353, 0.9696969696969697)\n",
      "(0.8333333333333334, 1.0, 0.9090909090909091)\n",
      "(0.9545454545454546, 1.0, 0.9767441860465117)\n",
      "(1.0, 0.9444444444444444, 0.9714285714285714)\n",
      "(0.875, 1.0, 0.9333333333333333)\n",
      "(0.8823529411764706, 0.967741935483871, 0.923076923076923)\n",
      "(0.9285714285714286, 0.9285714285714286, 0.9285714285714286)\n",
      "(0.9523809523809523, 1.0, 0.975609756097561)\n"
     ]
    }
   ],
   "source": [
    "setups = CrossValidation(docsTrue, docsFalse, 20)\n",
    "\n",
    "for s in setups:\n",
    "    train, test = s\n",
    "    r = Experimento(s)\n",
    "    print(Score(r))"
   ]
  },
  {
   "cell_type": "code",
   "execution_count": null,
   "metadata": {},
   "outputs": [],
   "source": []
  },
  {
   "cell_type": "code",
   "execution_count": 236,
   "metadata": {},
   "outputs": [
    {
     "data": {
      "text/plain": [
       "10"
      ]
     },
     "execution_count": 236,
     "metadata": {},
     "output_type": "execute_result"
    }
   ],
   "source": []
  },
  {
   "cell_type": "code",
   "execution_count": null,
   "metadata": {},
   "outputs": [],
   "source": []
  },
  {
   "cell_type": "code",
   "execution_count": null,
   "metadata": {},
   "outputs": [],
   "source": []
  },
  {
   "cell_type": "code",
   "execution_count": null,
   "metadata": {},
   "outputs": [],
   "source": []
  },
  {
   "cell_type": "code",
   "execution_count": null,
   "metadata": {},
   "outputs": [],
   "source": []
  },
  {
   "cell_type": "code",
   "execution_count": null,
   "metadata": {},
   "outputs": [],
   "source": []
  },
  {
   "cell_type": "code",
   "execution_count": 84,
   "metadata": {},
   "outputs": [],
   "source": [
    "docsTrue=[readDoc(x) for x in arquivosTech]\n",
    "docsFalse=[readDoc(x) for x in arquivosNTech]"
   ]
  },
  {
   "cell_type": "code",
   "execution_count": null,
   "metadata": {},
   "outputs": [],
   "source": []
  },
  {
   "cell_type": "code",
   "execution_count": 85,
   "metadata": {},
   "outputs": [
    {
     "data": {
      "text/plain": [
       "{'logPrioriT': -1.7119585786383464, 'logPrioriF': -0.1990754012407757}"
      ]
     },
     "execution_count": 85,
     "metadata": {},
     "output_type": "execute_result"
    }
   ],
   "source": [
    "Train(docsTrue, docsFalse)"
   ]
  },
  {
   "cell_type": "code",
   "execution_count": null,
   "metadata": {},
   "outputs": [],
   "source": []
  },
  {
   "cell_type": "code",
   "execution_count": null,
   "metadata": {},
   "outputs": [],
   "source": []
  },
  {
   "cell_type": "code",
   "execution_count": null,
   "metadata": {},
   "outputs": [],
   "source": []
  },
  {
   "cell_type": "code",
   "execution_count": null,
   "metadata": {},
   "outputs": [],
   "source": []
  },
  {
   "cell_type": "code",
   "execution_count": null,
   "metadata": {},
   "outputs": [],
   "source": []
  },
  {
   "cell_type": "code",
   "execution_count": null,
   "metadata": {},
   "outputs": [],
   "source": []
  },
  {
   "cell_type": "code",
   "execution_count": null,
   "metadata": {},
   "outputs": [],
   "source": []
  },
  {
   "cell_type": "code",
   "execution_count": null,
   "metadata": {},
   "outputs": [],
   "source": []
  }
 ],
 "metadata": {
  "kernelspec": {
   "display_name": "Python 3",
   "language": "python",
   "name": "python3"
  },
  "language_info": {
   "codemirror_mode": {
    "name": "ipython",
    "version": 3
   },
   "file_extension": ".py",
   "mimetype": "text/x-python",
   "name": "python",
   "nbconvert_exporter": "python",
   "pygments_lexer": "ipython3",
   "version": "3.8.6"
  }
 },
 "nbformat": 4,
 "nbformat_minor": 4
}
